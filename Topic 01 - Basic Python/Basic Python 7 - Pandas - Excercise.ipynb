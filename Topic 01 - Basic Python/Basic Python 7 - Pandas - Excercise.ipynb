{
 "cells": [
  {
   "cell_type": "markdown",
   "metadata": {},
   "source": [
    "# Python Pandas Excercise\n"
   ]
  },
  {
   "cell_type": "code",
   "execution_count": null,
   "metadata": {},
   "outputs": [],
   "source": [
    "import pandas as pd\n"
   ]
  },
  {
   "cell_type": "code",
   "execution_count": null,
   "metadata": {},
   "outputs": [],
   "source": [
    "df = pd.read_csv(\"IMDB-Movie-Data.csv\", index_col=\"Title\")\n",
    "\n",
    "# You can use this link too.\n",
    "# url = 'https://drive.google.com/file/d/19LKLek-xyLm48W4fuF03lpcIIcDY2jJ1/view?usp=sharing'\n",
    "# path = 'https://drive.google.com/uc?export=download&id='+url.split('/')[-2]\n",
    "# movie_df = pd.read_csv(path)\n",
    "\n"
   ]
  },
  {
   "cell_type": "code",
   "execution_count": null,
   "metadata": {},
   "outputs": [],
   "source": [
    "df.head()\n"
   ]
  },
  {
   "cell_type": "markdown",
   "metadata": {},
   "source": [
    "# Find the movies with metascore > 90\n",
    "\n",
    "(Optional) sort the movies by the metascore from high to low\n"
   ]
  },
  {
   "cell_type": "code",
   "execution_count": null,
   "metadata": {},
   "outputs": [],
   "source": [
    "filterMetaScore = df[\"Metascore\"] > 90\n",
    "df[filterMetaScore].sort_values(by=\"Metascore\", ascending=False)\n",
    "\n"
   ]
  },
  {
   "cell_type": "markdown",
   "metadata": {},
   "source": [
    "# Find the movie with metascore > 90 and Genre contains \"Adventure\" and \"Comedy\"\n",
    "\n",
    "(Optional) sort the movies by the metascore from high to low\n"
   ]
  },
  {
   "cell_type": "code",
   "execution_count": null,
   "metadata": {},
   "outputs": [],
   "source": [
    "filterMetaScore = df[\"Metascore\"] > 90\n",
    "filterGenre = df[\"Genre\"].str.contains(\"Adventure|Comedy\")\n",
    "df.loc[filterMetaScore & filterGenre].sort_values(by=\"Metascore\", ascending=False)\n",
    "\n"
   ]
  }
 ],
 "metadata": {
  "kernelspec": {
   "display_name": "Python 3",
   "language": "python",
   "name": "python3"
  },
  "language_info": {
   "codemirror_mode": {
    "name": "ipython",
    "version": 3
   },
   "file_extension": ".py",
   "mimetype": "text/x-python",
   "name": "python",
   "nbconvert_exporter": "python",
   "pygments_lexer": "ipython3",
   "version": "3.8.3"
  }
 },
 "nbformat": 4,
 "nbformat_minor": 2
}
