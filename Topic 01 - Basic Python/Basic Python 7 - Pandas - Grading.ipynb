{
 "cells": [
  {
   "cell_type": "code",
   "execution_count": null,
   "metadata": {},
   "outputs": [],
   "source": [
    "import pandas as pd\n"
   ]
  },
  {
   "cell_type": "code",
   "execution_count": null,
   "metadata": {},
   "outputs": [],
   "source": [
    "data = {\"full_score\": [100, 40, 75], \"ratio_grade\": [0.4, 0.3, 0.3]}\n",
    "info = pd.DataFrame(data, index=[\"assignment\", \"midterm\", \"final\"])\n",
    "display(info)\n"
   ]
  },
  {
   "cell_type": "code",
   "execution_count": null,
   "metadata": {},
   "outputs": [],
   "source": [
    "df = pd.read_excel(\"grade_raw.xlsx\", sheet_name=\"grade\")\n",
    "# df = pd.read_csv('grade_raw.csv')\n",
    "display(df)\n"
   ]
  },
  {
   "cell_type": "code",
   "execution_count": null,
   "metadata": {},
   "outputs": [],
   "source": [
    "df = df.dropna()\n",
    "display(df)\n"
   ]
  },
  {
   "cell_type": "code",
   "execution_count": null,
   "metadata": {},
   "outputs": [],
   "source": [
    "df[\"assignment_p\"] = df[\"assignment\"] / info.loc[\"assignment\", \"full_score\"] * 100\n",
    "df[\"midterm_p\"] = df[\"midterm\"] / info.loc[\"midterm\", \"full_score\"] * 100\n",
    "df[\"final_p\"] = df[\"final\"] / info.loc[\"final\", \"full_score\"] * 100\n",
    "display(df)\n"
   ]
  },
  {
   "cell_type": "code",
   "execution_count": null,
   "metadata": {},
   "outputs": [],
   "source": [
    "df[\"grade_score\"] = (\n",
    "    df[\"assignment_p\"] * info.loc[\"assignment\", \"ratio_grade\"]\n",
    "    + df[\"midterm_p\"] * info.loc[\"midterm\", \"ratio_grade\"]\n",
    "    + df[\"final_p\"] * info.loc[\"final\", \"ratio_grade\"]\n",
    ")\n",
    "display(df)\n"
   ]
  },
  {
   "cell_type": "code",
   "execution_count": null,
   "metadata": {},
   "outputs": [],
   "source": [
    "df = df.sort_values(by=\"grade_score\", ascending=False)\n",
    "display(df)\n"
   ]
  },
  {
   "cell_type": "code",
   "execution_count": null,
   "metadata": {},
   "outputs": [],
   "source": [
    "df.grade_score.describe()\n"
   ]
  },
  {
   "cell_type": "code",
   "execution_count": null,
   "metadata": {},
   "outputs": [],
   "source": [
    "def grade_letter(score):\n",
    "    gc = {\"A\": 81, \"B+\": 74, \"B\": 69, \"C+\": 64, \"C\": 50, \"D+\": 45, \"D\": 40}\n",
    "\n",
    "    if score >= gc[\"A\"]:\n",
    "        return \"A\"\n",
    "    elif score >= gc[\"B+\"]:\n",
    "        return \"B+\"\n",
    "    elif score >= gc[\"B\"]:\n",
    "        return \"B\"\n",
    "    elif score >= gc[\"C+\"]:\n",
    "        return \"C+\"\n",
    "    elif score >= gc[\"C\"]:\n",
    "        return \"C\"\n",
    "    elif score >= gc[\"D+\"]:\n",
    "        return \"D+\"\n",
    "    elif score >= gc[\"D\"]:\n",
    "        return \"D\"\n",
    "    else:\n",
    "        return \"F\"\n",
    "\n"
   ]
  },
  {
   "cell_type": "code",
   "execution_count": null,
   "metadata": {},
   "outputs": [],
   "source": [
    "def grade_value(letter):\n",
    "    gv = {\"A\": 4, \"B+\": 3.5, \"B\": 3, \"C+\": 2.5, \"C\": 2, \"D+\": 1.5, \"D\": 1, \"F\": 0}\n",
    "    return gv[letter]\n"
   ]
  },
  {
   "cell_type": "code",
   "execution_count": null,
   "metadata": {},
   "outputs": [],
   "source": [
    "df[\"grade_letter\"] = df.grade_score.apply(grade_letter)\n",
    "display(df)\n"
   ]
  },
  {
   "cell_type": "code",
   "execution_count": null,
   "metadata": {},
   "outputs": [],
   "source": [
    "df[\"grade_value\"] = df.grade_letter.apply(grade_value)\n",
    "display(df)\n"
   ]
  },
  {
   "cell_type": "code",
   "execution_count": null,
   "metadata": {},
   "outputs": [],
   "source": [
    "df.grade_value.describe()\n"
   ]
  },
  {
   "cell_type": "code",
   "execution_count": null,
   "metadata": {},
   "outputs": [],
   "source": [
    "bp = df.grade_letter.value_counts()\n",
    "display(bp)\n"
   ]
  },
  {
   "cell_type": "code",
   "execution_count": null,
   "metadata": {},
   "outputs": [],
   "source": [
    "bp.plot.bar()\n"
   ]
  },
  {
   "cell_type": "code",
   "execution_count": null,
   "metadata": {},
   "outputs": [],
   "source": [
    "df_out = df.sort_values(by=\"no\")\n",
    "display(df_out)\n"
   ]
  },
  {
   "cell_type": "code",
   "execution_count": null,
   "metadata": {},
   "outputs": [],
   "source": [
    "df_out.to_excel(\"grade_out.xlsx\")\n",
    "\n"
   ]
  }
 ],
 "metadata": {
  "kernelspec": {
   "display_name": "Python 3",
   "language": "python",
   "name": "python3"
  },
  "language_info": {
   "codemirror_mode": {
    "name": "ipython",
    "version": 3
   },
   "file_extension": ".py",
   "mimetype": "text/x-python",
   "name": "python",
   "nbconvert_exporter": "python",
   "pygments_lexer": "ipython3",
   "version": "3.9.7"
  }
 },
 "nbformat": 4,
 "nbformat_minor": 4
}
